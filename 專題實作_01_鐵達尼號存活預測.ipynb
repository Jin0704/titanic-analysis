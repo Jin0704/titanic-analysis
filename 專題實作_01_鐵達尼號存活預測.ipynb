{
  "nbformat": 4,
  "nbformat_minor": 0,
  "metadata": {
    "colab": {
      "provenance": [],
      "authorship_tag": "ABX9TyMg2UcdO7we5uAH/0sb+rip",
      "include_colab_link": true
    },
    "kernelspec": {
      "name": "python3",
      "display_name": "Python 3"
    },
    "language_info": {
      "name": "python"
    }
  },
  "cells": [
    {
      "cell_type": "markdown",
      "metadata": {
        "id": "view-in-github",
        "colab_type": "text"
      },
      "source": [
        "<a href=\"https://colab.research.google.com/github/Jin0704/titanic-analysis/blob/main/%E5%B0%88%E9%A1%8C%E5%AF%A6%E4%BD%9C_01_%E9%90%B5%E9%81%94%E5%B0%BC%E8%99%9F%E5%AD%98%E6%B4%BB%E9%A0%90%E6%B8%AC.ipynb\" target=\"_parent\"><img src=\"https://colab.research.google.com/assets/colab-badge.svg\" alt=\"Open In Colab\"/></a>"
      ]
    },
    {
      "cell_type": "code",
      "execution_count": 89,
      "metadata": {
        "id": "DbUbiGj94YRK"
      },
      "outputs": [],
      "source": [
        "import pandas as pd"
      ]
    },
    {
      "cell_type": "code",
      "source": [
        "# 1. 在你的 Colab 程式碼中載入 Titanic 資料集的 `train.csv` 資料集，可以參考這一篇 教學 中的網址或上傳方法。\n",
        "\n",
        "# （資料網址：https://raw.githubusercontent.com/dsindy/kaggle-titanic/master/data/train.csv）\n",
        "\n",
        "# 2. 請根據 Kaggle 文件瞭解 Titanic 資料中所有欄位的定義為何？\n",
        "\n",
        "# 3. 進一步觀察每一個欄位「數值欄位/類別欄位」與「是否生存欄位」之關係程度，找出關係大的欄位。\n",
        "\n",
        "# （Hint: 可以利用視覺化圖表、 correlation、feature importance 等方法）\n",
        "\n",
        "# 4. 承上題，請問你是如何定義與解讀什麼稱為「關係大」呢？"
      ],
      "metadata": {
        "id": "zEoanLCJ_x1q"
      },
      "execution_count": 90,
      "outputs": []
    },
    {
      "cell_type": "code",
      "source": [
        "# 1. 在你的 Colab 程式碼中載入 Titanic 資料集的 `train.csv` 資料集，可以參考這一篇 教學 中的網址或上傳方法。\n",
        "\n",
        "# （資料網址：https://raw.githubusercontent.com/dsindy/kaggle-titanic/master/data/train.csv）\n",
        "\n",
        "url = 'https://raw.githubusercontent.com/dsindy/kaggle-titanic/master/data/train.csv'\n",
        "full = pd.read_csv(url)\n",
        "df = pd.read_csv(url)\n",
        "target = df['Survived']\n",
        "\n",
        "print(df.head())"
      ],
      "metadata": {
        "colab": {
          "base_uri": "https://localhost:8080/"
        },
        "id": "PFgceq9yxq8b",
        "outputId": "402ce542-d9ba-4e92-84e6-7d3fa6b0ec81"
      },
      "execution_count": 91,
      "outputs": [
        {
          "output_type": "stream",
          "name": "stdout",
          "text": [
            "   PassengerId  Survived  Pclass  \\\n",
            "0            1         0       3   \n",
            "1            2         1       1   \n",
            "2            3         1       3   \n",
            "3            4         1       1   \n",
            "4            5         0       3   \n",
            "\n",
            "                                                Name     Sex   Age  SibSp  \\\n",
            "0                            Braund, Mr. Owen Harris    male  22.0      1   \n",
            "1  Cumings, Mrs. John Bradley (Florence Briggs Th...  female  38.0      1   \n",
            "2                             Heikkinen, Miss. Laina  female  26.0      0   \n",
            "3       Futrelle, Mrs. Jacques Heath (Lily May Peel)  female  35.0      1   \n",
            "4                           Allen, Mr. William Henry    male  35.0      0   \n",
            "\n",
            "   Parch            Ticket     Fare Cabin Embarked  \n",
            "0      0         A/5 21171   7.2500   NaN        S  \n",
            "1      0          PC 17599  71.2833   C85        C  \n",
            "2      0  STON/O2. 3101282   7.9250   NaN        S  \n",
            "3      0            113803  53.1000  C123        S  \n",
            "4      0            373450   8.0500   NaN        S  \n"
          ]
        }
      ]
    },
    {
      "cell_type": "code",
      "source": [
        "print(df.describe())"
      ],
      "metadata": {
        "colab": {
          "base_uri": "https://localhost:8080/"
        },
        "id": "J0mgzCidyUJ_",
        "outputId": "94392142-f562-4a27-93a1-df54f0f5a405"
      },
      "execution_count": 92,
      "outputs": [
        {
          "output_type": "stream",
          "name": "stdout",
          "text": [
            "       PassengerId    Survived      Pclass         Age       SibSp  \\\n",
            "count   891.000000  891.000000  891.000000  714.000000  891.000000   \n",
            "mean    446.000000    0.383838    2.308642   29.699118    0.523008   \n",
            "std     257.353842    0.486592    0.836071   14.526497    1.102743   \n",
            "min       1.000000    0.000000    1.000000    0.420000    0.000000   \n",
            "25%     223.500000    0.000000    2.000000   20.125000    0.000000   \n",
            "50%     446.000000    0.000000    3.000000   28.000000    0.000000   \n",
            "75%     668.500000    1.000000    3.000000   38.000000    1.000000   \n",
            "max     891.000000    1.000000    3.000000   80.000000    8.000000   \n",
            "\n",
            "            Parch        Fare  \n",
            "count  891.000000  891.000000  \n",
            "mean     0.381594   32.204208  \n",
            "std      0.806057   49.693429  \n",
            "min      0.000000    0.000000  \n",
            "25%      0.000000    7.910400  \n",
            "50%      0.000000   14.454200  \n",
            "75%      0.000000   31.000000  \n",
            "max      6.000000  512.329200  \n"
          ]
        }
      ]
    },
    {
      "cell_type": "code",
      "source": [
        "#判斷是否有空值以及是否要欄位轉型\n",
        "print(df.info())"
      ],
      "metadata": {
        "colab": {
          "base_uri": "https://localhost:8080/"
        },
        "id": "VLiW3LvlybDV",
        "outputId": "a290bc21-7e98-41df-8866-85a9ca30fead"
      },
      "execution_count": 93,
      "outputs": [
        {
          "output_type": "stream",
          "name": "stdout",
          "text": [
            "<class 'pandas.core.frame.DataFrame'>\n",
            "RangeIndex: 891 entries, 0 to 890\n",
            "Data columns (total 12 columns):\n",
            " #   Column       Non-Null Count  Dtype  \n",
            "---  ------       --------------  -----  \n",
            " 0   PassengerId  891 non-null    int64  \n",
            " 1   Survived     891 non-null    int64  \n",
            " 2   Pclass       891 non-null    int64  \n",
            " 3   Name         891 non-null    object \n",
            " 4   Sex          891 non-null    object \n",
            " 5   Age          714 non-null    float64\n",
            " 6   SibSp        891 non-null    int64  \n",
            " 7   Parch        891 non-null    int64  \n",
            " 8   Ticket       891 non-null    object \n",
            " 9   Fare         891 non-null    float64\n",
            " 10  Cabin        204 non-null    object \n",
            " 11  Embarked     889 non-null    object \n",
            "dtypes: float64(2), int64(5), object(5)\n",
            "memory usage: 83.7+ KB\n",
            "None\n"
          ]
        }
      ]
    },
    {
      "cell_type": "code",
      "source": [
        "#進一步觀察每一個欄位「數值欄位/類別欄位」與「是否生存欄位」之關係程度，找出關係大的欄位。\n",
        "import matplotlib.pyplot as plt\n",
        "import seaborn as sns\n",
        "\n",
        "df.drop(columns='Name')\n",
        "corr = df.corr()\n",
        "plt.figure(figsize=(15,8))\n",
        "sns.heatmap(corr,square=True,annot=True)"
      ],
      "metadata": {
        "colab": {
          "base_uri": "https://localhost:8080/",
          "height": 757
        },
        "id": "EO-nZq_zycpt",
        "outputId": "f6f3e70e-901b-46eb-c1e8-7a03870e348f"
      },
      "execution_count": 94,
      "outputs": [
        {
          "output_type": "stream",
          "name": "stderr",
          "text": [
            "<ipython-input-94-8a00a6a4e961>:6: FutureWarning: The default value of numeric_only in DataFrame.corr is deprecated. In a future version, it will default to False. Select only valid columns or specify the value of numeric_only to silence this warning.\n",
            "  corr = df.corr()\n"
          ]
        },
        {
          "output_type": "execute_result",
          "data": {
            "text/plain": [
              "<Axes: >"
            ]
          },
          "metadata": {},
          "execution_count": 94
        },
        {
          "output_type": "display_data",
          "data": {
            "text/plain": [
              "<Figure size 1500x800 with 2 Axes>"
            ],
            "image/png": "[encoded data removed]"
          },
          "metadata": {}
        }
      ]
    },
    {
      "cell_type": "code",
      "source": [
        "corr = df.corr()['Survived']\n",
        "print(corr.apply(lambda x:x>0))"
      ],
      "metadata": {
        "colab": {
          "base_uri": "https://localhost:8080/"
        },
        "id": "PHqIS8RNm2qd",
        "outputId": "2ca63f97-060c-44f3-bc12-33b6338106cc"
      },
      "execution_count": 95,
      "outputs": [
        {
          "output_type": "stream",
          "name": "stdout",
          "text": [
            "PassengerId    False\n",
            "Survived        True\n",
            "Pclass         False\n",
            "Age            False\n",
            "SibSp          False\n",
            "Parch           True\n",
            "Fare            True\n",
            "Name: Survived, dtype: bool\n"
          ]
        },
        {
          "output_type": "stream",
          "name": "stderr",
          "text": [
            "<ipython-input-95-0bca52c87916>:1: FutureWarning: The default value of numeric_only in DataFrame.corr is deprecated. In a future version, it will default to False. Select only valid columns or specify the value of numeric_only to silence this warning.\n",
            "  corr = df.corr()['Survived']\n"
          ]
        }
      ]
    },
    {
      "cell_type": "code",
      "source": [
        "# 在資料分析的工作流程中，在不考慮準確度情況下有哪些必備的環節？\n",
        "# 1. 檢查資料是否有缺失\n",
        "df.info()"
      ],
      "metadata": {
        "colab": {
          "base_uri": "https://localhost:8080/"
        },
        "id": "reUu7ikym8Q_",
        "outputId": "bc96e279-da49-4291-cfd3-8f32fc57caae"
      },
      "execution_count": 96,
      "outputs": [
        {
          "output_type": "stream",
          "name": "stdout",
          "text": [
            "<class 'pandas.core.frame.DataFrame'>\n",
            "RangeIndex: 891 entries, 0 to 890\n",
            "Data columns (total 12 columns):\n",
            " #   Column       Non-Null Count  Dtype  \n",
            "---  ------       --------------  -----  \n",
            " 0   PassengerId  891 non-null    int64  \n",
            " 1   Survived     891 non-null    int64  \n",
            " 2   Pclass       891 non-null    int64  \n",
            " 3   Name         891 non-null    object \n",
            " 4   Sex          891 non-null    object \n",
            " 5   Age          714 non-null    float64\n",
            " 6   SibSp        891 non-null    int64  \n",
            " 7   Parch        891 non-null    int64  \n",
            " 8   Ticket       891 non-null    object \n",
            " 9   Fare         891 non-null    float64\n",
            " 10  Cabin        204 non-null    object \n",
            " 11  Embarked     889 non-null    object \n",
            "dtypes: float64(2), int64(5), object(5)\n",
            "memory usage: 83.7+ KB\n"
          ]
        }
      ]
    },
    {
      "cell_type": "code",
      "source": [
        "#由上述結果知道欄位: Age,Cabin,Embarked 有缺失資料\n",
        "#2.針對缺失資料進行處理\n",
        "#Age : 用mean處理missing value\n",
        "df['Age'].fillna(df['Age'].mean(),inplace=True)\n",
        "#Cabin: 缺失太多資料 先dropColumn處理\n",
        "df.drop(columns='Cabin',inplace=True)\n",
        "#Embarked:缺失資料較少 這邊考慮直接先dropna\n",
        "df.dropna(subset='Embarked',inplace=True)\n",
        "full.dropna(subset='Embarked',inplace=True)"
      ],
      "metadata": {
        "id": "HuI86DfKwnr0"
      },
      "execution_count": 97,
      "outputs": []
    },
    {
      "cell_type": "code",
      "source": [
        "#確認沒有缺失值\n",
        "df.info()"
      ],
      "metadata": {
        "colab": {
          "base_uri": "https://localhost:8080/"
        },
        "id": "w1-rw0W_wvtb",
        "outputId": "6f581de6-af96-4830-f41e-bcf5b6de03c0"
      },
      "execution_count": 98,
      "outputs": [
        {
          "output_type": "stream",
          "name": "stdout",
          "text": [
            "<class 'pandas.core.frame.DataFrame'>\n",
            "Int64Index: 889 entries, 0 to 890\n",
            "Data columns (total 11 columns):\n",
            " #   Column       Non-Null Count  Dtype  \n",
            "---  ------       --------------  -----  \n",
            " 0   PassengerId  889 non-null    int64  \n",
            " 1   Survived     889 non-null    int64  \n",
            " 2   Pclass       889 non-null    int64  \n",
            " 3   Name         889 non-null    object \n",
            " 4   Sex          889 non-null    object \n",
            " 5   Age          889 non-null    float64\n",
            " 6   SibSp        889 non-null    int64  \n",
            " 7   Parch        889 non-null    int64  \n",
            " 8   Ticket       889 non-null    object \n",
            " 9   Fare         889 non-null    float64\n",
            " 10  Embarked     889 non-null    object \n",
            "dtypes: float64(2), int64(5), object(4)\n",
            "memory usage: 83.3+ KB\n"
          ]
        }
      ]
    },
    {
      "cell_type": "code",
      "source": [
        "\n",
        "#3;類別欄位轉換數值欄位\n",
        "#轉換Sex跟Embarked欄位\n",
        "from sklearn.preprocessing import LabelEncoder\n",
        "\n",
        "label_encoder = LabelEncoder()\n",
        "df['Sex'] = label_encoder.fit_transform(df['Sex'])\n",
        "df['Embarked'] = label_encoder.fit_transform(df['Embarked'])"
      ],
      "metadata": {
        "id": "oB_me_tf1ReI"
      },
      "execution_count": 99,
      "outputs": []
    },
    {
      "cell_type": "code",
      "source": [
        "#建立df_train資料集\n",
        "df_train = df[['PassengerId','Survived','Pclass','Sex','Age','SibSp','Parch','Fare','Embarked']]"
      ],
      "metadata": {
        "id": "mo8fzfLD2rsl"
      },
      "execution_count": 100,
      "outputs": []
    },
    {
      "cell_type": "code",
      "source": [
        "columns_X = set(df_train.columns)-{'Survived'}\n",
        "columns_y = ['Survived']\n",
        "\n",
        "train_X = df_train[columns_X]\n",
        "train_y = df_train[columns_y]\n"
      ],
      "metadata": {
        "colab": {
          "base_uri": "https://localhost:8080/"
        },
        "id": "3oOGQaRA6HGk",
        "outputId": "ff096427-20ce-4ae0-e93e-eb9b5f2b421d"
      },
      "execution_count": 101,
      "outputs": [
        {
          "output_type": "stream",
          "name": "stderr",
          "text": [
            "<ipython-input-101-bc5947e8b83a>:4: FutureWarning: Passing a set as an indexer is deprecated and will raise in a future version. Use a list instead.\n",
            "  train_X = df_train[columns_X]\n"
          ]
        }
      ]
    },
    {
      "cell_type": "code",
      "source": [
        "from sklearn.linear_model import LogisticRegression\n",
        "from sklearn.model_selection import cross_val_score\n",
        "\n",
        "log = LogisticRegression(random_state=0, max_iter=3000)\n",
        "scores = cross_val_score(log, train_X, train_y.values.ravel(), cv=5, scoring='accuracy')\n",
        "print(scores)"
      ],
      "metadata": {
        "colab": {
          "base_uri": "https://localhost:8080/"
        },
        "id": "L1gt7dPU6mVW",
        "outputId": "3852e592-42dd-42e9-9d43-e80de6086bc9"
      },
      "execution_count": 102,
      "outputs": [
        {
          "output_type": "stream",
          "name": "stdout",
          "text": [
            "[0.78089888 0.78089888 0.78089888 0.76404494 0.81355932]\n"
          ]
        }
      ]
    },
    {
      "cell_type": "code",
      "source": [
        "df.info()"
      ],
      "metadata": {
        "colab": {
          "base_uri": "https://localhost:8080/"
        },
        "id": "k7NlHNCv-yHy",
        "outputId": "933b0058-3d98-47ca-8e42-58caa985e483"
      },
      "execution_count": 103,
      "outputs": [
        {
          "output_type": "stream",
          "name": "stdout",
          "text": [
            "<class 'pandas.core.frame.DataFrame'>\n",
            "Int64Index: 889 entries, 0 to 890\n",
            "Data columns (total 11 columns):\n",
            " #   Column       Non-Null Count  Dtype  \n",
            "---  ------       --------------  -----  \n",
            " 0   PassengerId  889 non-null    int64  \n",
            " 1   Survived     889 non-null    int64  \n",
            " 2   Pclass       889 non-null    int64  \n",
            " 3   Name         889 non-null    object \n",
            " 4   Sex          889 non-null    int64  \n",
            " 5   Age          889 non-null    float64\n",
            " 6   SibSp        889 non-null    int64  \n",
            " 7   Parch        889 non-null    int64  \n",
            " 8   Ticket       889 non-null    object \n",
            " 9   Fare         889 non-null    float64\n",
            " 10  Embarked     889 non-null    int64  \n",
            "dtypes: float64(2), int64(7), object(2)\n",
            "memory usage: 83.3+ KB\n"
          ]
        }
      ]
    },
    {
      "cell_type": "code",
      "source": [
        "#1. 請問資料中有哪些「欄位」你覺得是多餘的，在分析過程中應該被排除的呢？為什麼？\n",
        "plt.figure(figsize=(15,8))\n",
        "sns.heatmap(df.corr(),square=True,annot=True)\n",
        "# 根據heatmap來看，關聯越接近0的代表關聯性越低，所以在這邊我認為最多餘的欄位是PassengerId這個欄位，當然我們也可以設計一個基本的門檻例如說Math.abs(cor)>0.1來做一個篩選的條件，\n",
        "# 所以會排除的欄位應該是PassengerId,Age,SibSp,Parch這四個欄位，另外Name的欄位在當前也會進行排除，因為這個欄位去做數值轉換會讓整個資料集的維度太大，較不適合"
      ],
      "metadata": {
        "colab": {
          "base_uri": "https://localhost:8080/",
          "height": 827
        },
        "id": "w1IhkCsSEi2o",
        "outputId": "d7601eff-7f2c-4a5a-a29a-e3e85ce4157f"
      },
      "execution_count": 104,
      "outputs": [
        {
          "output_type": "stream",
          "name": "stderr",
          "text": [
            "<ipython-input-104-0b2376258323>:3: FutureWarning: The default value of numeric_only in DataFrame.corr is deprecated. In a future version, it will default to False. Select only valid columns or specify the value of numeric_only to silence this warning.\n",
            "  sns.heatmap(df.corr(),square=True,annot=True)\n"
          ]
        },
        {
          "output_type": "execute_result",
          "data": {
            "text/plain": [
              "<Axes: >"
            ]
          },
          "metadata": {},
          "execution_count": 104
        },
        {
          "output_type": "display_data",
          "data": {
            "text/plain": [
              "<Figure size 1500x800 with 2 Axes>"
            ],
            "image/png": "[encoded data removed]"
          },
          "metadata": {}
        }
      ]
    },
    {
      "cell_type": "code",
      "source": [
        "# 針對「有缺失值」的欄位，嘗試不同的處理策略（例如：常數、中位數、平均數填補）比較結果。\n",
        "# 針對Age 欄位來做調整\n",
        "url = 'https://raw.githubusercontent.com/dsindy/kaggle-titanic/master/data/train.csv'\n",
        "df2 = pd.read_csv(url)\n",
        "df2.info()\n",
        "#針對缺失資料進行處理\n",
        "#Cabin: 缺失太多資料 先dropColumn處理\n",
        "df2.drop(columns='Cabin',inplace=True)\n",
        "#Embarked:缺失資料較少 這邊考慮直接先dropna\n",
        "df2.dropna(subset='Embarked',inplace=True)\n",
        "#Age : 用mean處理missing value\n",
        "df2['mean_age'] = df['Age'].fillna(df['Age'].mean())\n",
        "df2['mode_age'] = df['Age'].fillna(df['Age'].mode())\n",
        "df2['median_age'] = df['Age'].fillna(df['Age'].median())\n",
        "\n",
        "print(df2.info())"
      ],
      "metadata": {
        "colab": {
          "base_uri": "https://localhost:8080/"
        },
        "id": "mizj6FOlH5_G",
        "outputId": "d8879747-a1ed-4ff9-e668-6fa5da07319d"
      },
      "execution_count": 105,
      "outputs": [
        {
          "output_type": "stream",
          "name": "stdout",
          "text": [
            "<class 'pandas.core.frame.DataFrame'>\n",
            "RangeIndex: 891 entries, 0 to 890\n",
            "Data columns (total 12 columns):\n",
            " #   Column       Non-Null Count  Dtype  \n",
            "---  ------       --------------  -----  \n",
            " 0   PassengerId  891 non-null    int64  \n",
            " 1   Survived     891 non-null    int64  \n",
            " 2   Pclass       891 non-null    int64  \n",
            " 3   Name         891 non-null    object \n",
            " 4   Sex          891 non-null    object \n",
            " 5   Age          714 non-null    float64\n",
            " 6   SibSp        891 non-null    int64  \n",
            " 7   Parch        891 non-null    int64  \n",
            " 8   Ticket       891 non-null    object \n",
            " 9   Fare         891 non-null    float64\n",
            " 10  Cabin        204 non-null    object \n",
            " 11  Embarked     889 non-null    object \n",
            "dtypes: float64(2), int64(5), object(5)\n",
            "memory usage: 83.7+ KB\n",
            "<class 'pandas.core.frame.DataFrame'>\n",
            "Int64Index: 889 entries, 0 to 890\n",
            "Data columns (total 14 columns):\n",
            " #   Column       Non-Null Count  Dtype  \n",
            "---  ------       --------------  -----  \n",
            " 0   PassengerId  889 non-null    int64  \n",
            " 1   Survived     889 non-null    int64  \n",
            " 2   Pclass       889 non-null    int64  \n",
            " 3   Name         889 non-null    object \n",
            " 4   Sex          889 non-null    object \n",
            " 5   Age          712 non-null    float64\n",
            " 6   SibSp        889 non-null    int64  \n",
            " 7   Parch        889 non-null    int64  \n",
            " 8   Ticket       889 non-null    object \n",
            " 9   Fare         889 non-null    float64\n",
            " 10  Embarked     889 non-null    object \n",
            " 11  mean_age     889 non-null    float64\n",
            " 12  mode_age     889 non-null    float64\n",
            " 13  median_age   889 non-null    float64\n",
            "dtypes: float64(5), int64(5), object(4)\n",
            "memory usage: 104.2+ KB\n",
            "None\n"
          ]
        }
      ]
    },
    {
      "cell_type": "code",
      "source": [
        "#3;類別欄位轉換數值欄位\n",
        "#轉換Sex跟Embarked欄位\n",
        "from sklearn.preprocessing import LabelEncoder\n",
        "\n",
        "label_encoder = LabelEncoder()\n",
        "df2['Sex'] = label_encoder.fit_transform(df2['Sex'])\n",
        "# df2['Embarked'] = label_encoder.fit_transform(df2['Embarked'])\n",
        "embark = pd.get_dummies(df2['Embarked'], prefix=\"Embarked\")\n",
        "pclass = pd.get_dummies(df2['Pclass'], prefix=\"Pclass\")\n",
        "df2 = pd.concat([df2,embark],axis=1)\n",
        "df2 = pd.concat([df2,pclass],axis=1)\n",
        "print(df2.head())"
      ],
      "metadata": {
        "id": "OD9hG7EbNbdz",
        "colab": {
          "base_uri": "https://localhost:8080/"
        },
        "outputId": "8a99f51e-afa6-45bb-eccf-45158ee3e687"
      },
      "execution_count": 106,
      "outputs": [
        {
          "output_type": "stream",
          "name": "stdout",
          "text": [
            "   PassengerId  Survived  Pclass  \\\n",
            "0            1         0       3   \n",
            "1            2         1       1   \n",
            "2            3         1       3   \n",
            "3            4         1       1   \n",
            "4            5         0       3   \n",
            "\n",
            "                                                Name  Sex   Age  SibSp  Parch  \\\n",
            "0                            Braund, Mr. Owen Harris    1  22.0      1      0   \n",
            "1  Cumings, Mrs. John Bradley (Florence Briggs Th...    0  38.0      1      0   \n",
            "2                             Heikkinen, Miss. Laina    0  26.0      0      0   \n",
            "3       Futrelle, Mrs. Jacques Heath (Lily May Peel)    0  35.0      1      0   \n",
            "4                           Allen, Mr. William Henry    1  35.0      0      0   \n",
            "\n",
            "             Ticket     Fare Embarked  mean_age  mode_age  median_age  \\\n",
            "0         A/5 21171   7.2500        S      22.0      22.0        22.0   \n",
            "1          PC 17599  71.2833        C      38.0      38.0        38.0   \n",
            "2  STON/O2. 3101282   7.9250        S      26.0      26.0        26.0   \n",
            "3            113803  53.1000        S      35.0      35.0        35.0   \n",
            "4            373450   8.0500        S      35.0      35.0        35.0   \n",
            "\n",
            "   Embarked_C  Embarked_Q  Embarked_S  Pclass_1  Pclass_2  Pclass_3  \n",
            "0           0           0           1         0         0         1  \n",
            "1           1           0           0         1         0         0  \n",
            "2           0           0           1         0         0         1  \n",
            "3           0           0           1         1         0         0  \n",
            "4           0           0           1         0         0         1  \n"
          ]
        }
      ]
    },
    {
      "cell_type": "code",
      "source": [
        "#建立df_train資料集\n",
        "df_train_mean = df2[['PassengerId','Survived','Pclass_1','Pclass_2','Pclass_3','Sex','mean_age','SibSp','Parch','Fare','Embarked_C','Embarked_S','Embarked_Q']]\n",
        "df_train_mode = df2[['PassengerId','Survived','Pclass_1','Pclass_2','Pclass_3','Sex','mode_age','SibSp','Parch','Fare','Embarked_C','Embarked_S','Embarked_Q']]\n",
        "df_train_median = df2[['PassengerId','Survived','Pclass_1','Pclass_2','Pclass_3','Sex','median_age','SibSp','Parch','Fare','Embarked_C','Embarked_S','Embarked_Q']]\n",
        "\n",
        "columns_mean_X = set(df_train_mean.columns)-{'Survived'}\n",
        "columns_mode_X = set(df_train_mode.columns)-{'Survived'}\n",
        "columns_median_X = set(df_train_median.columns)-{'Survived'}\n",
        "columns_y = ['Survived']\n",
        "\n",
        "train_mean_X = df2[columns_mean_X]\n",
        "train_mode_X = df2[columns_mode_X]\n",
        "train_median_X = df2[columns_median_X]\n",
        "train_y = df2[columns_y]\n",
        "\n",
        "\n",
        "from sklearn.linear_model import LogisticRegression\n",
        "from sklearn.model_selection import cross_val_score\n",
        "\n",
        "log = LogisticRegression(random_state=0, max_iter=3000)\n",
        "scores_mean = cross_val_score(log, train_mean_X, train_y.values.ravel(), cv=5, scoring='accuracy')\n",
        "scores_mode = cross_val_score(log, train_mode_X, train_y.values.ravel(), cv=5, scoring='accuracy')\n",
        "scores_median = cross_val_score(log, train_median_X, train_y.values.ravel(), cv=5, scoring='accuracy')\n",
        "print('mean age score')\n",
        "print(scores_mean)\n",
        "print('mode age score')\n",
        "print(scores_mode)\n",
        "print('median age score')\n",
        "print(scores_median)"
      ],
      "metadata": {
        "colab": {
          "base_uri": "https://localhost:8080/"
        },
        "id": "q_4RP6gRPs79",
        "outputId": "32417a42-ecd6-4b38-d362-0775b8519f55"
      },
      "execution_count": 107,
      "outputs": [
        {
          "output_type": "stream",
          "name": "stderr",
          "text": [
            "<ipython-input-107-2c26bde85e2b>:11: FutureWarning: Passing a set as an indexer is deprecated and will raise in a future version. Use a list instead.\n",
            "  train_mean_X = df2[columns_mean_X]\n",
            "<ipython-input-107-2c26bde85e2b>:12: FutureWarning: Passing a set as an indexer is deprecated and will raise in a future version. Use a list instead.\n",
            "  train_mode_X = df2[columns_mode_X]\n",
            "<ipython-input-107-2c26bde85e2b>:13: FutureWarning: Passing a set as an indexer is deprecated and will raise in a future version. Use a list instead.\n",
            "  train_median_X = df2[columns_median_X]\n"
          ]
        },
        {
          "output_type": "stream",
          "name": "stdout",
          "text": [
            "mean age score\n",
            "[0.78089888 0.78089888 0.79213483 0.76966292 0.83615819]\n",
            "mode age score\n",
            "[0.78089888 0.78089888 0.78651685 0.76966292 0.83050847]\n",
            "median age score\n",
            "[0.78089888 0.78089888 0.78651685 0.76966292 0.83050847]\n"
          ]
        }
      ]
    },
    {
      "cell_type": "code",
      "source": [
        "#特徵工程\n",
        "title = pd.DataFrame()\n",
        "\n",
        "title['Title'] = df2['Name'].map(lambda name: name.split(',')[1].split('.')[0].strip())\n",
        "print(title.head(10))\n",
        "Title_Dictionary = {\n",
        "    \"Capt\":\"Officer\",\n",
        "    \"Col\":\"Officer\",\n",
        "    \"Major\":\"Officer\",\n",
        "    \"Jonkheer\":\"Royalty\",\n",
        "    \"Don\":\"Royalty\",\n",
        "    \"Sir\":\"Royalty\",\n",
        "    \"Dr\":\"Officer\",\n",
        "    \"Rev\":\"Officer\",\n",
        "    \"the Countess\":\"Royalty\",\n",
        "    \"Dona\":\"Royalty\",\n",
        "    \"Mme\":\"Mrs\",\n",
        "    \"Mile\":\"Miss\",\n",
        "    \"Ms\":\"Mrs\",\n",
        "    \"Mr\":\"Mr\",\n",
        "    \"Mrs\":\"Mrs\",\n",
        "    \"Miss\":\"Miss\",\n",
        "    \"Master\":\"Master\",\n",
        "    \"Lady\":\"Royalty\"\n",
        "}\n",
        "print('After Map')\n",
        "title['Title'] = title.Title.map(Title_Dictionary)\n",
        "print(title.head(10))\n",
        "title = pd.get_dummies(title.Title)\n",
        "title"
      ],
      "metadata": {
        "id": "Is8lDJjgQjS2",
        "outputId": "b0346de0-7e7c-4afe-dd1c-2496ec9d0ae5",
        "colab": {
          "base_uri": "https://localhost:8080/",
          "height": 843
        }
      },
      "execution_count": 108,
      "outputs": [
        {
          "output_type": "stream",
          "name": "stdout",
          "text": [
            "    Title\n",
            "0      Mr\n",
            "1     Mrs\n",
            "2    Miss\n",
            "3     Mrs\n",
            "4      Mr\n",
            "5      Mr\n",
            "6      Mr\n",
            "7  Master\n",
            "8     Mrs\n",
            "9     Mrs\n",
            "After Map\n",
            "    Title\n",
            "0      Mr\n",
            "1     Mrs\n",
            "2    Miss\n",
            "3     Mrs\n",
            "4      Mr\n",
            "5      Mr\n",
            "6      Mr\n",
            "7  Master\n",
            "8     Mrs\n",
            "9     Mrs\n"
          ]
        },
        {
          "output_type": "execute_result",
          "data": {
            "text/plain": [
              "     Master  Miss  Mr  Mrs  Officer  Royalty\n",
              "0         0     0   1    0        0        0\n",
              "1         0     0   0    1        0        0\n",
              "2         0     1   0    0        0        0\n",
              "3         0     0   0    1        0        0\n",
              "4         0     0   1    0        0        0\n",
              "..      ...   ...  ..  ...      ...      ...\n",
              "886       0     0   0    0        1        0\n",
              "887       0     1   0    0        0        0\n",
              "888       0     1   0    0        0        0\n",
              "889       0     0   1    0        0        0\n",
              "890       0     0   1    0        0        0\n",
              "\n",
              "[889 rows x 6 columns]"
            ],
            "text/html": [
              "\n",
              "\n",
              "  <div id=\"df-2219a36c-a9b7-4f6b-a65a-8a0d800ee66a\">\n",
              "    <div class=\"colab-df-container\">\n",
              "      <div>\n",
              "<style scoped>\n",
              "    .dataframe tbody tr th:only-of-type {\n",
              "        vertical-align: middle;\n",
              "    }\n",
              "\n",
              "    .dataframe tbody tr th {\n",
              "        vertical-align: top;\n",
              "    }\n",
              "\n",
              "    .dataframe thead th {\n",
              "        text-align: right;\n",
              "    }\n",
              "</style>\n",
              "<table border=\"1\" class=\"dataframe\">\n",
              "  <thead>\n",
              "    <tr style=\"text-align: right;\">\n",
              "      <th></th>\n",
              "      <th>Master</th>\n",
              "      <th>Miss</th>\n",
              "      <th>Mr</th>\n",
              "      <th>Mrs</th>\n",
              "      <th>Officer</th>\n",
              "      <th>Royalty</th>\n",
              "    </tr>\n",
              "  </thead>\n",
              "  <tbody>\n",
              "    <tr>\n",
              "      <th>0</th>\n",
              "      <td>0</td>\n",
              "      <td>0</td>\n",
              "      <td>1</td>\n",
              "      <td>0</td>\n",
              "      <td>0</td>\n",
              "      <td>0</td>\n",
              "    </tr>\n",
              "    <tr>\n",
              "      <th>1</th>\n",
              "      <td>0</td>\n",
              "      <td>0</td>\n",
              "      <td>0</td>\n",
              "      <td>1</td>\n",
              "      <td>0</td>\n",
              "      <td>0</td>\n",
              "    </tr>\n",
              "    <tr>\n",
              "      <th>2</th>\n",
              "      <td>0</td>\n",
              "      <td>1</td>\n",
              "      <td>0</td>\n",
              "      <td>0</td>\n",
              "      <td>0</td>\n",
              "      <td>0</td>\n",
              "    </tr>\n",
              "    <tr>\n",
              "      <th>3</th>\n",
              "      <td>0</td>\n",
              "      <td>0</td>\n",
              "      <td>0</td>\n",
              "      <td>1</td>\n",
              "      <td>0</td>\n",
              "      <td>0</td>\n",
              "    </tr>\n",
              "    <tr>\n",
              "      <th>4</th>\n",
              "      <td>0</td>\n",
              "      <td>0</td>\n",
              "      <td>1</td>\n",
              "      <td>0</td>\n",
              "      <td>0</td>\n",
              "      <td>0</td>\n",
              "    </tr>\n",
              "    <tr>\n",
              "      <th>...</th>\n",
              "      <td>...</td>\n",
              "      <td>...</td>\n",
              "      <td>...</td>\n",
              "      <td>...</td>\n",
              "      <td>...</td>\n",
              "      <td>...</td>\n",
              "    </tr>\n",
              "    <tr>\n",
              "      <th>886</th>\n",
              "      <td>0</td>\n",
              "      <td>0</td>\n",
              "      <td>0</td>\n",
              "      <td>0</td>\n",
              "      <td>1</td>\n",
              "      <td>0</td>\n",
              "    </tr>\n",
              "    <tr>\n",
              "      <th>887</th>\n",
              "      <td>0</td>\n",
              "      <td>1</td>\n",
              "      <td>0</td>\n",
              "      <td>0</td>\n",
              "      <td>0</td>\n",
              "      <td>0</td>\n",
              "    </tr>\n",
              "    <tr>\n",
              "      <th>888</th>\n",
              "      <td>0</td>\n",
              "      <td>1</td>\n",
              "      <td>0</td>\n",
              "      <td>0</td>\n",
              "      <td>0</td>\n",
              "      <td>0</td>\n",
              "    </tr>\n",
              "    <tr>\n",
              "      <th>889</th>\n",
              "      <td>0</td>\n",
              "      <td>0</td>\n",
              "      <td>1</td>\n",
              "      <td>0</td>\n",
              "      <td>0</td>\n",
              "      <td>0</td>\n",
              "    </tr>\n",
              "    <tr>\n",
              "      <th>890</th>\n",
              "      <td>0</td>\n",
              "      <td>0</td>\n",
              "      <td>1</td>\n",
              "      <td>0</td>\n",
              "      <td>0</td>\n",
              "      <td>0</td>\n",
              "    </tr>\n",
              "  </tbody>\n",
              "</table>\n",
              "<p>889 rows × 6 columns</p>\n",
              "</div>\n",
              "      <button class=\"colab-df-convert\" onclick=\"convertToInteractive('df-2219a36c-a9b7-4f6b-a65a-8a0d800ee66a')\"\n",
              "              title=\"Convert this dataframe to an interactive table.\"\n",
              "              style=\"display:none;\">\n",
              "\n",
              "  <svg xmlns=\"http://www.w3.org/2000/svg\" height=\"24px\"viewBox=\"0 0 24 24\"\n",
              "       width=\"24px\">\n",
              "    <path d=\"M0 0h24v24H0V0z\" fill=\"none\"/>\n",
              "    <path d=\"M18.56 5.44l.94 2.06.94-2.06 2.06-.94-2.06-.94-.94-2.06-.94 2.06-2.06.94zm-11 1L8.5 8.5l.94-2.06 2.06-.94-2.06-.94L8.5 2.5l-.94 2.06-2.06.94zm10 10l.94 2.06.94-2.06 2.06-.94-2.06-.94-.94-2.06-.94 2.06-2.06.94z\"/><path d=\"M17.41 7.96l-1.37-1.37c-.4-.4-.92-.59-1.43-.59-.52 0-1.04.2-1.43.59L10.3 9.45l-7.72 7.72c-.78.78-.78 2.05 0 2.83L4 21.41c.39.39.9.59 1.41.59.51 0 1.02-.2 1.41-.59l7.78-7.78 2.81-2.81c.8-.78.8-2.07 0-2.86zM5.41 20L4 18.59l7.72-7.72 1.47 1.35L5.41 20z\"/>\n",
              "  </svg>\n",
              "      </button>\n",
              "\n",
              "\n",
              "\n",
              "    <div id=\"df-f565c334-763a-4cfc-8509-6ed904feee1a\">\n",
              "      <button class=\"colab-df-quickchart\" onclick=\"quickchart('df-f565c334-763a-4cfc-8509-6ed904feee1a')\"\n",
              "              title=\"Suggest charts.\"\n",
              "              style=\"display:none;\">\n",
              "\n",
              "<svg xmlns=\"http://www.w3.org/2000/svg\" height=\"24px\"viewBox=\"0 0 24 24\"\n",
              "     width=\"24px\">\n",
              "    <g>\n",
              "        <path d=\"M19 3H5c-1.1 0-2 .9-2 2v14c0 1.1.9 2 2 2h14c1.1 0 2-.9 2-2V5c0-1.1-.9-2-2-2zM9 17H7v-7h2v7zm4 0h-2V7h2v10zm4 0h-2v-4h2v4z\"/>\n",
              "    </g>\n",
              "</svg>\n",
              "      </button>\n",
              "    </div>\n",
              "\n",
              "<style>\n",
              "  .colab-df-quickchart {\n",
              "    background-color: #E8F0FE;\n",
              "    border: none;\n",
              "    border-radius: 50%;\n",
              "    cursor: pointer;\n",
              "    display: none;\n",
              "    fill: #1967D2;\n",
              "    height: 32px;\n",
              "    padding: 0 0 0 0;\n",
              "    width: 32px;\n",
              "  }\n",
              "\n",
              "  .colab-df-quickchart:hover {\n",
              "    background-color: #E2EBFA;\n",
              "    box-shadow: 0px 1px 2px rgba(60, 64, 67, 0.3), 0px 1px 3px 1px rgba(60, 64, 67, 0.15);\n",
              "    fill: #174EA6;\n",
              "  }\n",
              "\n",
              "  [theme=dark] .colab-df-quickchart {\n",
              "    background-color: #3B4455;\n",
              "    fill: #D2E3FC;\n",
              "  }\n",
              "\n",
              "  [theme=dark] .colab-df-quickchart:hover {\n",
              "    background-color: #434B5C;\n",
              "    box-shadow: 0px 1px 3px 1px rgba(0, 0, 0, 0.15);\n",
              "    filter: drop-shadow(0px 1px 2px rgba(0, 0, 0, 0.3));\n",
              "    fill: #FFFFFF;\n",
              "  }\n",
              "</style>\n",
              "\n",
              "    <script>\n",
              "      async function quickchart(key) {\n",
              "        const containerElement = document.querySelector('#' + key);\n",
              "        const charts = await google.colab.kernel.invokeFunction(\n",
              "            'suggestCharts', [key], {});\n",
              "      }\n",
              "    </script>\n",
              "\n",
              "      <script>\n",
              "\n",
              "function displayQuickchartButton(domScope) {\n",
              "  let quickchartButtonEl =\n",
              "    domScope.querySelector('#df-f565c334-763a-4cfc-8509-6ed904feee1a button.colab-df-quickchart');\n",
              "  quickchartButtonEl.style.display =\n",
              "    google.colab.kernel.accessAllowed ? 'block' : 'none';\n",
              "}\n",
              "\n",
              "        displayQuickchartButton(document);\n",
              "      </script>\n",
              "      <style>\n",
              "    .colab-df-container {\n",
              "      display:flex;\n",
              "      flex-wrap:wrap;\n",
              "      gap: 12px;\n",
              "    }\n",
              "\n",
              "    .colab-df-convert {\n",
              "      background-color: #E8F0FE;\n",
              "      border: none;\n",
              "      border-radius: 50%;\n",
              "      cursor: pointer;\n",
              "      display: none;\n",
              "      fill: #1967D2;\n",
              "      height: 32px;\n",
              "      padding: 0 0 0 0;\n",
              "      width: 32px;\n",
              "    }\n",
              "\n",
              "    .colab-df-convert:hover {\n",
              "      background-color: #E2EBFA;\n",
              "      box-shadow: 0px 1px 2px rgba(60, 64, 67, 0.3), 0px 1px 3px 1px rgba(60, 64, 67, 0.15);\n",
              "      fill: #174EA6;\n",
              "    }\n",
              "\n",
              "    [theme=dark] .colab-df-convert {\n",
              "      background-color: #3B4455;\n",
              "      fill: #D2E3FC;\n",
              "    }\n",
              "\n",
              "    [theme=dark] .colab-df-convert:hover {\n",
              "      background-color: #434B5C;\n",
              "      box-shadow: 0px 1px 3px 1px rgba(0, 0, 0, 0.15);\n",
              "      filter: drop-shadow(0px 1px 2px rgba(0, 0, 0, 0.3));\n",
              "      fill: #FFFFFF;\n",
              "    }\n",
              "  </style>\n",
              "\n",
              "      <script>\n",
              "        const buttonEl =\n",
              "          document.querySelector('#df-2219a36c-a9b7-4f6b-a65a-8a0d800ee66a button.colab-df-convert');\n",
              "        buttonEl.style.display =\n",
              "          google.colab.kernel.accessAllowed ? 'block' : 'none';\n",
              "\n",
              "        async function convertToInteractive(key) {\n",
              "          const element = document.querySelector('#df-2219a36c-a9b7-4f6b-a65a-8a0d800ee66a');\n",
              "          const dataTable =\n",
              "            await google.colab.kernel.invokeFunction('convertToInteractive',\n",
              "                                                     [key], {});\n",
              "          if (!dataTable) return;\n",
              "\n",
              "          const docLinkHtml = 'Like what you see? Visit the ' +\n",
              "            '<a target=\"_blank\" href=https://colab.research.google.com/notebooks/data_table.ipynb>data table notebook</a>'\n",
              "            + ' to learn more about interactive tables.';\n",
              "          element.innerHTML = '';\n",
              "          dataTable['output_type'] = 'display_data';\n",
              "          await google.colab.output.renderOutput(dataTable, element);\n",
              "          const docLink = document.createElement('div');\n",
              "          docLink.innerHTML = docLinkHtml;\n",
              "          element.appendChild(docLink);\n",
              "        }\n",
              "      </script>\n",
              "    </div>\n",
              "  </div>\n"
            ]
          },
          "metadata": {},
          "execution_count": 108
        }
      ]
    },
    {
      "cell_type": "code",
      "source": [
        "df3 = pd.concat([df2,title],axis=1)"
      ],
      "metadata": {
        "id": "xsPS9BHcYl0C"
      },
      "execution_count": 109,
      "outputs": []
    },
    {
      "cell_type": "code",
      "source": [
        "#建立df_train資料集\n",
        "df_train_mean = df3[['PassengerId','Survived','Pclass_1','Pclass_2','Pclass_3','Sex','mean_age','SibSp','Parch','Fare','Embarked_C','Embarked_S','Embarked_Q','Master','Miss','Mr','Mrs','Officer','Royalty']]\n",
        "df_train_mode = df3[['PassengerId','Survived','Pclass_1','Pclass_2','Pclass_3','Sex','mode_age','SibSp','Parch','Fare','Embarked_C','Embarked_S','Embarked_Q','Master','Miss','Mr','Mrs','Officer','Royalty']]\n",
        "df_train_median = df3[['PassengerId','Survived','Pclass_1','Pclass_2','Pclass_3','Sex','median_age','SibSp','Parch','Fare','Embarked_C','Embarked_S','Embarked_Q','Master','Miss','Mr','Mrs','Officer','Royalty']]\n",
        "\n",
        "columns_mean_X = set(df_train_mean.columns)-{'Survived'}\n",
        "columns_mode_X = set(df_train_mode.columns)-{'Survived'}\n",
        "columns_median_X = set(df_train_median.columns)-{'Survived'}\n",
        "columns_y = ['Survived']\n",
        "\n",
        "train_mean_X = df3[columns_mean_X]\n",
        "train_mode_X = df3[columns_mode_X]\n",
        "train_median_X = df3[columns_median_X]\n",
        "train_y = df3[columns_y]\n",
        "\n",
        "\n",
        "from sklearn.linear_model import LogisticRegression\n",
        "from sklearn.model_selection import cross_val_score\n",
        "\n",
        "log = LogisticRegression(random_state=0, max_iter=3000)\n",
        "scores_mean = cross_val_score(log, train_mean_X, train_y.values.ravel(), cv=5, scoring='accuracy')\n",
        "scores_mode = cross_val_score(log, train_mode_X, train_y.values.ravel(), cv=5, scoring='accuracy')\n",
        "scores_median = cross_val_score(log, train_median_X, train_y.values.ravel(), cv=5, scoring='accuracy')\n",
        "print('mean age score')\n",
        "print(scores_mean.mean())\n",
        "print('mode age score')\n",
        "print(scores_mode.mean())\n",
        "print('median age score')\n",
        "print(scores_median.mean())"
      ],
      "metadata": {
        "id": "tehguDa2dHVA",
        "outputId": "438296fa-789e-4139-fae8-54edeb717e41",
        "colab": {
          "base_uri": "https://localhost:8080/"
        }
      },
      "execution_count": 115,
      "outputs": [
        {
          "output_type": "stream",
          "name": "stderr",
          "text": [
            "<ipython-input-115-54697e2f3d75>:11: FutureWarning: Passing a set as an indexer is deprecated and will raise in a future version. Use a list instead.\n",
            "  train_mean_X = df3[columns_mean_X]\n",
            "<ipython-input-115-54697e2f3d75>:12: FutureWarning: Passing a set as an indexer is deprecated and will raise in a future version. Use a list instead.\n",
            "  train_mode_X = df3[columns_mode_X]\n",
            "<ipython-input-115-54697e2f3d75>:13: FutureWarning: Passing a set as an indexer is deprecated and will raise in a future version. Use a list instead.\n",
            "  train_median_X = df3[columns_median_X]\n"
          ]
        },
        {
          "output_type": "stream",
          "name": "stdout",
          "text": [
            "mean age score\n",
            "0.8245730971878371\n",
            "mode age score\n",
            "0.8245730971878371\n",
            "median age score\n",
            "0.8245730971878371\n"
          ]
        }
      ]
    },
    {
      "cell_type": "code",
      "source": [
        "#cabin\n",
        "cabin = pd.DataFrame()\n",
        "\n",
        "cabin['Cabin'] = full.Cabin.fillna('U')\n",
        "\n",
        "cabin['Cabin'] = cabin['Cabin'].map(lambda c:c[0])\n",
        "print(cabin.head())\n",
        "\n",
        "cabin = pd.get_dummies(cabin['Cabin'], prefix='Cabin')\n",
        "print(cabin.head())"
      ],
      "metadata": {
        "id": "GF1SbMjodfTS",
        "outputId": "87ece214-d90d-4ade-a169-0a6018bea3fb",
        "colab": {
          "base_uri": "https://localhost:8080/"
        }
      },
      "execution_count": 111,
      "outputs": [
        {
          "output_type": "stream",
          "name": "stdout",
          "text": [
            "  Cabin\n",
            "0     U\n",
            "1     C\n",
            "2     U\n",
            "3     C\n",
            "4     U\n",
            "   Cabin_A  Cabin_B  Cabin_C  Cabin_D  Cabin_E  Cabin_F  Cabin_G  Cabin_T  \\\n",
            "0        0        0        0        0        0        0        0        0   \n",
            "1        0        0        1        0        0        0        0        0   \n",
            "2        0        0        0        0        0        0        0        0   \n",
            "3        0        0        1        0        0        0        0        0   \n",
            "4        0        0        0        0        0        0        0        0   \n",
            "\n",
            "   Cabin_U  \n",
            "0        1  \n",
            "1        0  \n",
            "2        1  \n",
            "3        0  \n",
            "4        1  \n"
          ]
        }
      ]
    },
    {
      "cell_type": "code",
      "source": [
        "#family size\n",
        "family = pd.DataFrame()\n",
        "family['FamilySize'] = full['Parch']+full['SibSp']+1\n",
        "\n",
        "family['Family_Single'] = family['FamilySize'].map(lambda s: 1 if s==1 else 0)\n",
        "family['Family_Small'] = family['FamilySize'].map(lambda s: 1 if 2<=s<=4 else 0)\n",
        "family['Family_Large'] = family['FamilySize'].map(lambda s: 1 if s>4 else 0)\n",
        "\n",
        "print(family.head())"
      ],
      "metadata": {
        "id": "2-1e6f8foGJY",
        "outputId": "bfc5ab7a-6021-4cb6-d7f8-9668580169da",
        "colab": {
          "base_uri": "https://localhost:8080/"
        }
      },
      "execution_count": 117,
      "outputs": [
        {
          "output_type": "stream",
          "name": "stdout",
          "text": [
            "   FamilySize  Family_Single  Family_Small  Family_Large\n",
            "0           2              0             1             0\n",
            "1           2              0             1             0\n",
            "2           1              1             0             0\n",
            "3           2              0             1             0\n",
            "4           1              1             0             0\n"
          ]
        }
      ]
    },
    {
      "cell_type": "code",
      "source": [
        "#ticket\n",
        "def cleanTicket( ticket):\n",
        "  ticket = ticket.replace('.','')\n",
        "  ticket = ticket.replace('/','')\n",
        "  ticket = ticket.split()\n",
        "  ticket = map(lambda t: t.strip(), ticket)\n",
        "  ticket = list(filter( lambda t: not t.isdigit(), ticket))\n",
        "  if len(ticket)>0:\n",
        "    return ticket[0]\n",
        "  else:\n",
        "    return 'XXX'\n",
        "\n",
        "ticket = pd.DataFrame()\n",
        "\n",
        "ticket['Ticket']=full['Ticket'].map(cleanTicket)\n",
        "ticket = pd.get_dummies(ticket['Ticket'], prefix='Ticket')\n",
        "\n",
        "print(ticket.shape)\n",
        "print(ticket.head())"
      ],
      "metadata": {
        "id": "Aw6ynQ-AsqOm",
        "outputId": "a492d803-b9ce-4f32-ce54-2c78e67976bf",
        "colab": {
          "base_uri": "https://localhost:8080/"
        }
      },
      "execution_count": 118,
      "outputs": [
        {
          "output_type": "stream",
          "name": "stdout",
          "text": [
            "(889, 31)\n",
            "   Ticket_A4  Ticket_A5  Ticket_AS  Ticket_C  Ticket_CA  Ticket_CASOTON  \\\n",
            "0          0          1          0         0          0               0   \n",
            "1          0          0          0         0          0               0   \n",
            "2          0          0          0         0          0               0   \n",
            "3          0          0          0         0          0               0   \n",
            "4          0          0          0         0          0               0   \n",
            "\n",
            "   Ticket_FC  Ticket_FCC  Ticket_Fa  Ticket_LINE  ...  Ticket_SOPP  \\\n",
            "0          0           0          0            0  ...            0   \n",
            "1          0           0          0            0  ...            0   \n",
            "2          0           0          0            0  ...            0   \n",
            "3          0           0          0            0  ...            0   \n",
            "4          0           0          0            0  ...            0   \n",
            "\n",
            "   Ticket_SOTONO2  Ticket_SOTONOQ  Ticket_SP  Ticket_STONO  Ticket_STONO2  \\\n",
            "0               0               0          0             0              0   \n",
            "1               0               0          0             0              0   \n",
            "2               0               0          0             0              1   \n",
            "3               0               0          0             0              0   \n",
            "4               0               0          0             0              0   \n",
            "\n",
            "   Ticket_SWPP  Ticket_WC  Ticket_WEP  Ticket_XXX  \n",
            "0            0          0           0           0  \n",
            "1            0          0           0           0  \n",
            "2            0          0           0           0  \n",
            "3            0          0           0           1  \n",
            "4            0          0           0           1  \n",
            "\n",
            "[5 rows x 31 columns]\n"
          ]
        }
      ]
    },
    {
      "cell_type": "code",
      "source": [
        "df_x = pd.concat([df3,cabin,family],axis=1)"
      ],
      "metadata": {
        "id": "SXdCSdFDtpdR",
        "outputId": "af2687ff-8d74-4c4e-c7b8-4eb37eb6dd90",
        "colab": {
          "base_uri": "https://localhost:8080/"
        }
      },
      "execution_count": 119,
      "outputs": [
        {
          "output_type": "stream",
          "name": "stdout",
          "text": [
            "<class 'pandas.core.frame.DataFrame'>\n",
            "Int64Index: 889 entries, 0 to 890\n",
            "Data columns (total 39 columns):\n",
            " #   Column         Non-Null Count  Dtype  \n",
            "---  ------         --------------  -----  \n",
            " 0   PassengerId    889 non-null    int64  \n",
            " 1   Survived       889 non-null    int64  \n",
            " 2   Pclass         889 non-null    int64  \n",
            " 3   Name           889 non-null    object \n",
            " 4   Sex            889 non-null    int64  \n",
            " 5   Age            712 non-null    float64\n",
            " 6   SibSp          889 non-null    int64  \n",
            " 7   Parch          889 non-null    int64  \n",
            " 8   Ticket         889 non-null    object \n",
            " 9   Fare           889 non-null    float64\n",
            " 10  Embarked       889 non-null    object \n",
            " 11  mean_age       889 non-null    float64\n",
            " 12  mode_age       889 non-null    float64\n",
            " 13  median_age     889 non-null    float64\n",
            " 14  Embarked_C     889 non-null    uint8  \n",
            " 15  Embarked_Q     889 non-null    uint8  \n",
            " 16  Embarked_S     889 non-null    uint8  \n",
            " 17  Pclass_1       889 non-null    uint8  \n",
            " 18  Pclass_2       889 non-null    uint8  \n",
            " 19  Pclass_3       889 non-null    uint8  \n",
            " 20  Master         889 non-null    uint8  \n",
            " 21  Miss           889 non-null    uint8  \n",
            " 22  Mr             889 non-null    uint8  \n",
            " 23  Mrs            889 non-null    uint8  \n",
            " 24  Officer        889 non-null    uint8  \n",
            " 25  Royalty        889 non-null    uint8  \n",
            " 26  Cabin_A        889 non-null    uint8  \n",
            " 27  Cabin_B        889 non-null    uint8  \n",
            " 28  Cabin_C        889 non-null    uint8  \n",
            " 29  Cabin_D        889 non-null    uint8  \n",
            " 30  Cabin_E        889 non-null    uint8  \n",
            " 31  Cabin_F        889 non-null    uint8  \n",
            " 32  Cabin_G        889 non-null    uint8  \n",
            " 33  Cabin_T        889 non-null    uint8  \n",
            " 34  Cabin_U        889 non-null    uint8  \n",
            " 35  FamilySize     889 non-null    int64  \n",
            " 36  Family_Single  889 non-null    int64  \n",
            " 37  Family_Small   889 non-null    int64  \n",
            " 38  Family_Large   889 non-null    int64  \n",
            "dtypes: float64(5), int64(10), object(3), uint8(21)\n",
            "memory usage: 150.2+ KB\n",
            "None\n"
          ]
        }
      ]
    },
    {
      "cell_type": "code",
      "source": [
        "#建立df_train資料集\n",
        "df_train_mean = df_x[['PassengerId','Survived','Pclass_1','Pclass_2','Pclass_3','Sex','mean_age','SibSp','Parch','Fare','Embarked_C','Embarked_S','Embarked_Q','Master','Miss','Mr','Mrs','Officer','Royalty',\n",
        "                     'Cabin_A','Cabin_B','Cabin_C','Cabin_D','Cabin_E','Cabin_F','Cabin_G','Cabin_T','Cabin_U','Family_Single','Family_Small','Family_Large']]\n",
        "df_train_mode = df_x[['PassengerId','Survived','Pclass_1','Pclass_2','Pclass_3','Sex','mode_age','SibSp','Parch','Fare','Embarked_C','Embarked_S','Embarked_Q','Master','Miss','Mr','Mrs','Officer','Royalty',\n",
        "                      'Cabin_A','Cabin_B','Cabin_C','Cabin_D','Cabin_E','Cabin_F','Cabin_G','Cabin_T','Cabin_U','Family_Single','Family_Small','Family_Large']]\n",
        "df_train_median = df_x[['PassengerId','Survived','Pclass_1','Pclass_2','Pclass_3','Sex','median_age','SibSp','Parch','Fare','Embarked_C','Embarked_S','Embarked_Q','Master','Miss','Mr','Mrs','Officer','Royalty',\n",
        "                        'Cabin_A','Cabin_B','Cabin_C','Cabin_D','Cabin_E','Cabin_F','Cabin_G','Cabin_T','Cabin_U','Family_Single','Family_Small','Family_Large']]\n",
        "\n",
        "columns_mean_X = set(df_train_mean.columns)-{'Survived'}\n",
        "columns_mode_X = set(df_train_mode.columns)-{'Survived'}\n",
        "columns_median_X = set(df_train_median.columns)-{'Survived'}\n",
        "columns_y = ['Survived']\n",
        "\n",
        "train_mean_X = df_x[columns_mean_X]\n",
        "train_mode_X = df_x[columns_mode_X]\n",
        "train_median_X = df_x[columns_median_X]\n",
        "train_y = df_x[columns_y]\n",
        "\n",
        "\n",
        "from sklearn.linear_model import LogisticRegression\n",
        "from sklearn.model_selection import cross_val_score\n",
        "\n",
        "log = LogisticRegression(random_state=0, max_iter=3000)\n",
        "scores_mean = cross_val_score(log, train_mean_X, train_y.values.ravel(), cv=5, scoring='accuracy')\n",
        "scores_mode = cross_val_score(log, train_mode_X, train_y.values.ravel(), cv=5, scoring='accuracy')\n",
        "scores_median = cross_val_score(log, train_median_X, train_y.values.ravel(), cv=5, scoring='accuracy')\n",
        "print('mean age score')\n",
        "print(scores_mean.mean())\n",
        "print('mode age score')\n",
        "print(scores_mode.mean())\n",
        "print('median age score')\n",
        "print(scores_median.mean())"
      ],
      "metadata": {
        "id": "A_8tExPdu7h3",
        "outputId": "a4a9e385-a9f6-4167-bdd0-b89ce3f16969",
        "colab": {
          "base_uri": "https://localhost:8080/"
        }
      },
      "execution_count": 120,
      "outputs": [
        {
          "output_type": "stream",
          "name": "stderr",
          "text": [
            "<ipython-input-120-82a63ac07b78>:14: FutureWarning: Passing a set as an indexer is deprecated and will raise in a future version. Use a list instead.\n",
            "  train_mean_X = df_x[columns_mean_X]\n",
            "<ipython-input-120-82a63ac07b78>:15: FutureWarning: Passing a set as an indexer is deprecated and will raise in a future version. Use a list instead.\n",
            "  train_mode_X = df_x[columns_mode_X]\n",
            "<ipython-input-120-82a63ac07b78>:16: FutureWarning: Passing a set as an indexer is deprecated and will raise in a future version. Use a list instead.\n",
            "  train_median_X = df_x[columns_median_X]\n"
          ]
        },
        {
          "output_type": "stream",
          "name": "stdout",
          "text": [
            "mean age score\n",
            "0.8256776487018346\n",
            "mode age score\n",
            "0.8268012442074525\n",
            "median age score\n",
            "0.8268012442074525\n"
          ]
        }
      ]
    },
    {
      "cell_type": "code",
      "source": [],
      "metadata": {
        "id": "XL9EQaYRveLV"
      },
      "execution_count": null,
      "outputs": []
    }
  ]
}